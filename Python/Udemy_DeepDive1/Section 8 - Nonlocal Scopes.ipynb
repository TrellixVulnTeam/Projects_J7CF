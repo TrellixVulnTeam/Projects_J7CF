{
 "cells": [
  {
   "cell_type": "code",
   "execution_count": 1,
   "metadata": {},
   "outputs": [],
   "source": [
    "def outer_func():\n",
    "    x = 'hello'\n",
    "    def inner_func():\n",
    "        print(x)\n",
    "    inner_func()"
   ]
  },
  {
   "cell_type": "code",
   "execution_count": 2,
   "metadata": {},
   "outputs": [
    {
     "name": "stdout",
     "output_type": "stream",
     "text": [
      "hello\n"
     ]
    }
   ],
   "source": [
    "outer_func()"
   ]
  },
  {
   "cell_type": "code",
   "execution_count": 3,
   "metadata": {},
   "outputs": [],
   "source": [
    "def outer_func():\n",
    "    x = 'hello'\n",
    "    def inner1_func():\n",
    "        def inner2_func():\n",
    "            print(x)\n",
    "        inner2_func()\n",
    "    inner1_func()"
   ]
  },
  {
   "cell_type": "code",
   "execution_count": 4,
   "metadata": {},
   "outputs": [
    {
     "name": "stdout",
     "output_type": "stream",
     "text": [
      "hello\n"
     ]
    }
   ],
   "source": [
    "outer_func()"
   ]
  },
  {
   "cell_type": "code",
   "execution_count": 6,
   "metadata": {},
   "outputs": [],
   "source": [
    "def outer_func():\n",
    "    x = 'hello'\n",
    "    def inner1_func():\n",
    "        x = 'python'\n",
    "        print('inner:', x)\n",
    "    inner1_func()\n",
    "\n",
    "    print('outter:',x)"
   ]
  },
  {
   "cell_type": "code",
   "execution_count": 7,
   "metadata": {},
   "outputs": [
    {
     "name": "stdout",
     "output_type": "stream",
     "text": [
      "inner: python\n",
      "outter: hello\n"
     ]
    }
   ],
   "source": [
    "outer_func()"
   ]
  },
  {
   "cell_type": "code",
   "execution_count": 8,
   "metadata": {},
   "outputs": [],
   "source": [
    "def outer_func():\n",
    "    x = 'hello'\n",
    "    def inner1_func():\n",
    "        nonlocal x    # jesli chcemy modyfikowac zmienne jako nielokalne nalezy uzyc slowa \"nonlocal\" przed uzyciem zmiennej.\n",
    "        x = 'python'\n",
    "        print('inner:', x)\n",
    "    inner1_func()\n",
    "\n",
    "    print('outter:',x)"
   ]
  },
  {
   "cell_type": "code",
   "execution_count": 9,
   "metadata": {},
   "outputs": [
    {
     "name": "stdout",
     "output_type": "stream",
     "text": [
      "inner: python\n",
      "outter: python\n"
     ]
    }
   ],
   "source": [
    "outer_func()"
   ]
  },
  {
   "cell_type": "code",
   "execution_count": 10,
   "metadata": {},
   "outputs": [],
   "source": [
    "def outer_func():\n",
    "    x = 'hello'\n",
    "    def inner1_func():\n",
    "        nonlocal x\n",
    "        x = 'python'\n",
    "        print('inner:', x)\n",
    "    print('outer before:', x)\n",
    "    inner1_func()\n",
    "    print('outter:',x)"
   ]
  },
  {
   "cell_type": "code",
   "execution_count": 11,
   "metadata": {},
   "outputs": [
    {
     "name": "stdout",
     "output_type": "stream",
     "text": [
      "outer before: hello\n",
      "inner: python\n",
      "outter: python\n"
     ]
    }
   ],
   "source": [
    "outer_func()"
   ]
  },
  {
   "cell_type": "code",
   "execution_count": 12,
   "metadata": {},
   "outputs": [],
   "source": [
    "def outer_func():\n",
    "    x = 'hello'\n",
    "    def inner1_func():\n",
    "        print('inner1:', x)\n",
    "        def inner2_func():\n",
    "            nonlocal x\n",
    "            x = 'python'\n",
    "        inner2_func()\n",
    "    inner1_func()\n",
    "    print('outter:',x)"
   ]
  },
  {
   "cell_type": "code",
   "execution_count": 13,
   "metadata": {},
   "outputs": [
    {
     "name": "stdout",
     "output_type": "stream",
     "text": [
      "inner1: hello\n",
      "outter: python\n"
     ]
    }
   ],
   "source": [
    "outer_func()"
   ]
  },
  {
   "cell_type": "code",
   "execution_count": null,
   "metadata": {},
   "outputs": [],
   "source": []
  }
 ],
 "metadata": {
  "kernelspec": {
   "display_name": "Python 3",
   "language": "python",
   "name": "python3"
  },
  "language_info": {
   "codemirror_mode": {
    "name": "ipython",
    "version": 3
   },
   "file_extension": ".py",
   "mimetype": "text/x-python",
   "name": "python",
   "nbconvert_exporter": "python",
   "pygments_lexer": "ipython3",
   "version": "3.7.5"
  }
 },
 "nbformat": 4,
 "nbformat_minor": 2
}
