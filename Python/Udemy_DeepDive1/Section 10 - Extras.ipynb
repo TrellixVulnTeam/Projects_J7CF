{
 "cells": [
  {
   "cell_type": "code",
   "execution_count": null,
   "metadata": {},
   "outputs": [],
   "source": [
    "l = [(1,2,3),(4,5,6)]\n",
    "l = list(zip(*l))"
   ]
  },
  {
   "cell_type": "code",
   "execution_count": null,
   "metadata": {},
   "outputs": [],
   "source": [
    "l"
   ]
  },
  {
   "cell_type": "code",
   "execution_count": null,
   "metadata": {},
   "outputs": [],
   "source": [
    "s = []\n",
    "for _ in range(3):\n",
    "    s.append( list(map(int, input().rstrip().split())))\n",
    "\n",
    "s_new = sorted([s[i][j] for j in range(3) for i in range(3)])\n",
    "l = [x for x in range(1,10)]\n",
    "l1 = [i for i in l if i not in s_new]\n",
    "l2 = list(set([j for j in s_new if s_new.count(j) > 1]))\n",
    "l3 = list(zip(l1,l2))\n",
    "cost = sum(list(map(lambda x: abs(x[0]-x[1]), l3 )))"
   ]
  },
  {
   "cell_type": "code",
   "execution_count": null,
   "metadata": {},
   "outputs": [],
   "source": [
    "def minMaxSum(arr):\n",
    "    return arr.count(max(arr))\n",
    "    "
   ]
  },
  {
   "cell_type": "code",
   "execution_count": null,
   "metadata": {},
   "outputs": [],
   "source": [
    "minMaxSum([1,2,5,6,7,7])"
   ]
  },
  {
   "cell_type": "code",
   "execution_count": null,
   "metadata": {},
   "outputs": [],
   "source": [
    "g = int(input())\n",
    "r = 5 - g%5\n",
    "g = g + r if r < 3 and g + r > 40 else g\n",
    "\n",
    "    "
   ]
  },
  {
   "cell_type": "code",
   "execution_count": 7,
   "metadata": {},
   "outputs": [
    {
     "name": "stdout",
     "output_type": "stream",
     "text": [
      "4\n",
      "67\n",
      "73\n",
      "33\n",
      "38\n"
     ]
    }
   ],
   "source": [
    "grades_count = int(input().strip())\n",
    "\n",
    "grades = []\n",
    "for _ in range(grades_count):\n",
    "        grades_item = int(input().strip())\n",
    "        grades.append(grades_item)\n",
    "\n"
   ]
  },
  {
   "cell_type": "code",
   "execution_count": 9,
   "metadata": {},
   "outputs": [],
   "source": [
    "\n",
    "def gradingStudents(grades):\n",
    "    # Write your code here\n",
    "    new_grades = []\n",
    "    for grade in grades:\n",
    "        r = 5 - grade % 5\n",
    "        g = grade + r if r < 3 else grade\n",
    "        g = g if \n",
    "        new_grades.append(g)\n",
    "    return new_grades"
   ]
  },
  {
   "cell_type": "code",
   "execution_count": 8,
   "metadata": {},
   "outputs": [
    {
     "data": {
      "text/plain": [
       "[67, 73, 33, 38]"
      ]
     },
     "execution_count": 8,
     "metadata": {},
     "output_type": "execute_result"
    }
   ],
   "source": [
    "grades"
   ]
  },
  {
   "cell_type": "code",
   "execution_count": 10,
   "metadata": {},
   "outputs": [
    {
     "name": "stdout",
     "output_type": "stream",
     "text": [
      "[67, 75, 33, 38]\n"
     ]
    }
   ],
   "source": [
    "print(gradingStudents(grades))"
   ]
  },
  {
   "cell_type": "code",
   "execution_count": 1,
   "metadata": {},
   "outputs": [
    {
     "name": "stdout",
     "output_type": "stream",
     "text": [
      "Help on built-in function setattr in module builtins:\n",
      "\n",
      "setattr(obj, name, value, /)\n",
      "    Sets the named attribute on the given object to the specified value.\n",
      "    \n",
      "    setattr(x, 'y', v) is equivalent to ``x.y = v''\n",
      "\n"
     ]
    }
   ],
   "source": [
    "help(setattr)"
   ]
  },
  {
   "cell_type": "code",
   "execution_count": 6,
   "metadata": {},
   "outputs": [],
   "source": [
    "class Person:\n",
    "    def __init__(self, name, age, **custom_attributes):\n",
    "        self.name = name\n",
    "        self.age = age\n",
    "        for custom_key, custom_value in custom_attributes.items():\n",
    "            setattr(self,custom_key, c)\n",
    "            "
   ]
  },
  {
   "cell_type": "code",
   "execution_count": 50,
   "metadata": {},
   "outputs": [],
   "source": [
    "def my_func(n):\n",
    "\n",
    "    switch_statement = {\n",
    "        1: lambda : print('argument 1'),\n",
    "        2: lambda : print('argument 2'),\n",
    "        'default': lambda : print('default argument')\n",
    "    }\n",
    "    return switch_statement.get(n, switch_statement['default'])()\n",
    "\n"
   ]
  },
  {
   "cell_type": "code",
   "execution_count": 53,
   "metadata": {},
   "outputs": [
    {
     "name": "stdout",
     "output_type": "stream",
     "text": [
      "default argument\n"
     ]
    }
   ],
   "source": [
    "my_func(3)\n"
   ]
  },
  {
   "cell_type": "code",
   "execution_count": null,
   "metadata": {},
   "outputs": [],
   "source": []
  }
 ],
 "metadata": {
  "kernelspec": {
   "display_name": "Python 3",
   "language": "python",
   "name": "python3"
  },
  "language_info": {
   "codemirror_mode": {
    "name": "ipython",
    "version": 3
   },
   "file_extension": ".py",
   "mimetype": "text/x-python",
   "name": "python",
   "nbconvert_exporter": "python",
   "pygments_lexer": "ipython3",
   "version": "3.7.6"
  }
 },
 "nbformat": 4,
 "nbformat_minor": 2
}
