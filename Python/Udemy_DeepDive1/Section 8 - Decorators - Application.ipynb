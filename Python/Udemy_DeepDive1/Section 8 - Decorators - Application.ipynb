{
 "cells": [
  {
   "cell_type": "code",
   "execution_count": 3,
   "metadata": {},
   "outputs": [],
   "source": [
    "def timed(fn):\n",
    "    from time import perf_counter\n",
    "    from functools import wraps\n",
    "    \n",
    "    @wraps(fn)\n",
    "    def inner(*args, **kwargs):\n",
    "        start = perf_counter()\n",
    "        result = fn(*args, **kwargs)\n",
    "        end = perf_counter()\n",
    "        elapsed = end - start\n",
    "        \n",
    "        args_ = [str(a) for a in args]\n",
    "        kwargs_ = ['{0}:{1}'.format(k,v) for k,v in kwargs.items()]\n",
    "        all_args = args_ + kwargs_\n",
    "        args_str = ','.join(all_args)\n",
    "        \n",
    "        print('{0}({1}) took {2:.6f}s to run.'.format(fn.__name__, args_str, elapsed))\n",
    "                \n",
    "        return result\n",
    "    return inner"
   ]
  },
  {
   "cell_type": "code",
   "execution_count": 4,
   "metadata": {},
   "outputs": [],
   "source": [
    "@timed\n",
    "def calc_fib_loop(n):\n",
    "    a, b = 1, 1\n",
    "    for _ in range(1,n-1):\n",
    "        a, b = b, b+a\n",
    "    return b"
   ]
  },
  {
   "cell_type": "code",
   "execution_count": 5,
   "metadata": {},
   "outputs": [
    {
     "name": "stdout",
     "output_type": "stream",
     "text": [
      "calc_fib_loop(12) took 0.000004s to run.\n"
     ]
    },
    {
     "data": {
      "text/plain": [
       "144"
      ]
     },
     "execution_count": 5,
     "metadata": {},
     "output_type": "execute_result"
    }
   ],
   "source": [
    "calc_fib_loop(12)\n"
   ]
  },
  {
   "cell_type": "code",
   "execution_count": 6,
   "metadata": {},
   "outputs": [],
   "source": [
    "def calc_fib_rec(n):\n",
    "    if n <= 2:\n",
    "        return 1\n",
    "    else:\n",
    "        return calc_fib_rec(n-1) + calc_fib_rec(n-2)\n",
    "    "
   ]
  },
  {
   "cell_type": "code",
   "execution_count": 7,
   "metadata": {},
   "outputs": [],
   "source": [
    "@timed\n",
    "def fib_recursive(n):\n",
    "    return calc_fib_rec(n)\n"
   ]
  },
  {
   "cell_type": "code",
   "execution_count": 9,
   "metadata": {},
   "outputs": [
    {
     "name": "stdout",
     "output_type": "stream",
     "text": [
      "fib_recursive(30) took 0.283611s to run.\n"
     ]
    },
    {
     "data": {
      "text/plain": [
       "832040"
      ]
     },
     "execution_count": 9,
     "metadata": {},
     "output_type": "execute_result"
    }
   ],
   "source": [
    "fib_recursive(30)\n"
   ]
  },
  {
   "cell_type": "code",
   "execution_count": 18,
   "metadata": {},
   "outputs": [
    {
     "name": "stdout",
     "output_type": "stream",
     "text": [
      "calc_fib_loop(20) took 0.000004s to run.\n"
     ]
    },
    {
     "data": {
      "text/plain": [
       "6765"
      ]
     },
     "execution_count": 18,
     "metadata": {},
     "output_type": "execute_result"
    }
   ],
   "source": [
    "calc_fib_loop(20)"
   ]
  },
  {
   "cell_type": "code",
   "execution_count": null,
   "metadata": {},
   "outputs": [],
   "source": []
  }
 ],
 "metadata": {
  "kernelspec": {
   "display_name": "Python 3",
   "language": "python",
   "name": "python3"
  },
  "language_info": {
   "codemirror_mode": {
    "name": "ipython",
    "version": 3
   },
   "file_extension": ".py",
   "mimetype": "text/x-python",
   "name": "python",
   "nbconvert_exporter": "python",
   "pygments_lexer": "ipython3",
   "version": "3.7.5"
  }
 },
 "nbformat": 4,
 "nbformat_minor": 2
}
